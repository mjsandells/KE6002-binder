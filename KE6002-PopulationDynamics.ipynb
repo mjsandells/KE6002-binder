{
 "cells": [
  {
   "cell_type": "markdown",
   "id": "2771afe1-a4ea-4a56-91ab-40f7aac68331",
   "metadata": {},
   "source": [
    "# KE6002: Population Dynamics\n",
    "This workbook is designed to help you do some simple population dynamics modelling. This code is python. Python is similar to matlab in many ways. It looks like the cell below. There are 3 ways to execute the cell:\n",
    "1. Via the 'Run' menu button at the top\n",
    "2. Click the 'Play' button above\n",
    "3. Press SHIFT + ENTER\n",
    "\n",
    "Try running the code below - this is a simple introduction to python"
   ]
  },
  {
   "cell_type": "code",
   "execution_count": null,
   "id": "146f61ec-44c4-48f6-8967-8fd507bd3840",
   "metadata": {
    "tags": []
   },
   "outputs": [],
   "source": [
    "# From https://www.codecademy.com/article/learn-python-python-syntax\n",
    "\"\"\"\n",
    "Use comments to describe your code.\n",
    "Each single line below is a statement.\n",
    "\"\"\"\n",
    "\n",
    "# values and variables\n",
    "string_variable = \"hello world\"\n",
    "int_variable = 1\n",
    "float_variable = 1.5\n",
    "boolean_variable = True\n",
    "\n",
    "# operators\n",
    "maths_problem = (int_variable + float_variable) / 3\n",
    "\n",
    "# functions\n",
    "print(string_variable) # hello world"
   ]
  },
  {
   "cell_type": "markdown",
   "id": "e685175d-2a6f-497f-8968-8534f7c4407c",
   "metadata": {},
   "source": [
    "You can go back and edit cells and re-run them: output the results of *maths_problem*. Is it what you expect?\n",
    "\n",
    "Run the cell below to import some packages that we are going to use"
   ]
  },
  {
   "cell_type": "code",
   "execution_count": null,
   "id": "cf42ac2a-3450-420f-a500-5ef4df7c5f85",
   "metadata": {
    "tags": []
   },
   "outputs": [],
   "source": [
    "# Numpy is a numerical package\n",
    "# renaming this to np shortens the code. This is a common shortcut.\n",
    "import numpy as np\n",
    "\n",
    "# Matplotlib is a graphics package, very similar to matplot\n",
    "# Try your favourite matplot settings!\n",
    "import matplotlib.pyplot as plt"
   ]
  },
  {
   "cell_type": "markdown",
   "id": "c50c80c9-25d2-4f6c-b22b-e352baa125e5",
   "metadata": {},
   "source": [
    "## Simple model: fertility\n",
    "\n",
    "We are going to implement the simple fertility mathematical model from the lecture. \n",
    "\n",
    "$$Y_n = R^n Y_0$$\n",
    "\n",
    "Then we will look at what happens when $R$ changes. Start with a doubling of the population (R=2) and an initial population of 100."
   ]
  },
  {
   "cell_type": "code",
   "execution_count": null,
   "id": "4aafa57b-b5d4-489a-ad41-1d67ff9684bf",
   "metadata": {
    "tags": []
   },
   "outputs": [],
   "source": [
    "R = 2\n",
    "Y_0 = 100"
   ]
  },
  {
   "cell_type": "markdown",
   "id": "96d18d3d-c5aa-49d8-a2d3-133d7ce1ef14",
   "metadata": {},
   "source": [
    "There are several different ways of calculating $Y_n$. None of them are wrong. Here, we'll create an array of years from 0 to 20 with the numpy package arange (https://numpy.org/doc/stable/reference/generated/numpy.arange.html) "
   ]
  },
  {
   "cell_type": "code",
   "execution_count": null,
   "id": "afc4d9a4-2227-4f13-a2ef-12677cd16cce",
   "metadata": {
    "tags": []
   },
   "outputs": [],
   "source": [
    "# Create an array of years from 0 to 20 (print out if you want to check!)\n",
    "n = np.arange(21)"
   ]
  },
  {
   "cell_type": "code",
   "execution_count": null,
   "id": "af5cf7c2-3898-4d1c-8f72-549ea528160d",
   "metadata": {
    "tags": []
   },
   "outputs": [],
   "source": [
    "# Run this cell to calculate Yn\n",
    "# This is the computational implementation of the mathematical model\n",
    "Y_n = R**n * Y_0"
   ]
  },
  {
   "cell_type": "code",
   "execution_count": null,
   "id": "eb75fd91-ac85-4dfd-b49e-ce792e3cec97",
   "metadata": {
    "tags": []
   },
   "outputs": [],
   "source": [
    "print (Y_n)"
   ]
  },
  {
   "cell_type": "markdown",
   "id": "8ab9dfcb-0216-49a0-b417-2500faf92594",
   "metadata": {},
   "source": [
    "Let's plot the population growth on a graph with matplotlib (imported as plt)"
   ]
  },
  {
   "cell_type": "code",
   "execution_count": null,
   "id": "a09a64fe-016f-4847-8018-e1d5f728d480",
   "metadata": {
    "tags": []
   },
   "outputs": [],
   "source": [
    "plt.plot(n, Y_n, 'bo-',label='R=2')\n",
    "\n",
    "# Essential graph components\n",
    "plt.xlabel('Year')\n",
    "plt.ylabel('Population')\n",
    "plt.legend()\n"
   ]
  },
  {
   "cell_type": "markdown",
   "id": "d1aabbf7-5152-4926-b0b8-98ee7f40c1b2",
   "metadata": {},
   "source": [
    "Now add two more lines to this graph: R=1 and R = 0.5. What happens? \n",
    "\n",
    "*Hints:*\n",
    "\n",
    "*1. you'll need to create new variables for R and Y_n.*\n",
    "\n",
    "*2. you may want to change the yaxis limits so you can see the changes. Use e.g. plt.ylim(0,1000)*\n",
    "\n",
    "Are the results as you expect?\n",
    "\n",
    "## Population growth rate dependent on population\n",
    "This represents something like resource availability. You need to implement\n",
    "\n",
    "$$ R = A + BY + CY^2$$\n",
    "\n",
    "Can you make a graph that looks something like the figure below? \n",
    "\n",
    "![Population Curve](IMG_8425.png)\n"
   ]
  },
  {
   "cell_type": "code",
   "execution_count": null,
   "id": "f87dc07e-1a58-4b41-b997-9abfe09e3949",
   "metadata": {
    "tags": []
   },
   "outputs": [],
   "source": [
    "# New equation for R\n",
    "A=1\n",
    "B=0\n",
    "C=0\n",
    "\n",
    "# Make a population array from 10 to 50 in increments of 5\n",
    "pop = np.arange(10, 55, 5)\n",
    "\n",
    "R = A + B * pop # Change this equation!!\n"
   ]
  },
  {
   "cell_type": "markdown",
   "id": "0fbb1df7-89e9-4bba-93ed-c839bb18d613",
   "metadata": {
    "tags": []
   },
   "source": [
    "Note there are plenty of other ways to write this code! \n",
    "\n",
    "Now plot the rate of *growth curve* (R) against *population* (pop): change A, B and C to change the shape of the curve (to be similar to the figure above). How large would the population have to be for the growth rate to be negative?"
   ]
  },
  {
   "cell_type": "markdown",
   "id": "de83bc5f-f45b-4f39-8e6f-96439b794aed",
   "metadata": {
    "tags": []
   },
   "source": [
    "# Lotka-Volterra Predator Prey\n",
    "\n",
    "Note that this code is from git@github.com:INASIC/predator-prey_systems.git. Have a look through the code and write down what it is doing.\n",
    "\n",
    "#### What happens when you change parameters?\n",
    "\n",
    "#### What happens when you add random noise (amp $\\ne$ 0) to one of the parameters?"
   ]
  },
  {
   "cell_type": "code",
   "execution_count": null,
   "id": "5ee59d98-cc61-405a-9773-622a5b44c6ab",
   "metadata": {
    "tags": []
   },
   "outputs": [],
   "source": [
    "from scipy.integrate import odeint\n",
    "import matplotlib.pyplot as plt\n",
    "\n",
    "\n",
    "# timestep determines the accuracy of the euler method of integration\n",
    "timestep = 0.0001\n",
    "# amplitude of noise term\n",
    "amp = 0.00\n",
    "# the time at which the simulation ends\n",
    "end_time = 50\n",
    "\n",
    "# creates a time vector from 0 to end_time, seperated by a timestep\n",
    "t = np.arange(0,end_time,timestep)\n",
    "\n",
    "# intialize rabbits (x) and foxes (y) vectors\n",
    "x = []\n",
    "y = []\n",
    "\n",
    "# noise term to perturb differential equations\n",
    "def StochasticTerm(amp):\n",
    "    return (amp * np.random.uniform(-1,1))\n",
    "\n",
    "\"\"\"\" definition of lotka-volterra parameters\"\"\"\n",
    "# birth rate of rabbits\n",
    "a = 1\n",
    "# death rate of rabbits due to predation\n",
    "b = 0.1\n",
    "# natural death rate of foxes\n",
    "c = 0.5\n",
    "# factor that describes how many eaten rabbits give birth to a new fox\n",
    "d = 0.02\n",
    "\n",
    "\"\"\" euler integration \"\"\"\n",
    "\n",
    "# initial conditions for the rabbit (x) and fox (y) populations at time=0\n",
    "x.append(100)\n",
    "y.append(20)\n",
    "\n",
    "# forward euler method of integration\n",
    "# a perturbbation term is added to the differentials to make the simulation stochastic\n",
    "for index in range(1,len(t)):\n",
    "    \n",
    "    # make one of the parameters stochastic\n",
    "    a = a + StochasticTerm(amp)\n",
    "    \n",
    "    # evaluate the current differentials\n",
    "    xd = x[index-1] * (a - b*y[index-1])\n",
    "    yd = -y[index-1]*(c - d*x[index-1])\n",
    "    \n",
    "    # evaluate the next value of x and y using differentials\n",
    "    next_x = x[index-1] + xd * timestep\n",
    "    next_y = y[index-1] + yd * timestep\n",
    "\n",
    "    # add the next value of x and y \n",
    "    x.append(next_x)\n",
    "    y.append(next_y)\n",
    "\n",
    "\"\"\" visualization \"\"\"\n",
    "\n",
    "if amp == 0:    \n",
    "    # visualization of deterministic populations against time\n",
    "    plt.plot(t, x)\n",
    "    plt.plot(t, y)\n",
    "    plt.xlabel('Time')\n",
    "    plt.ylabel('Population Size')\n",
    "    plt.legend(('Rabbits', 'Foxes'))\n",
    "    plt.title('Deterministic Lotka-Volterra')\n",
    "    plt.show()\n",
    "\n",
    "    # deterministic phase portrait\n",
    "    plt.plot(x,y)\n",
    "    plt.xlabel('Fox Population')\n",
    "    plt.ylabel('Rabbit Population')\n",
    "    plt.title('Phase Portrait of Deterministic Lotka-Volterra')\n",
    "    plt.show()\n",
    "    \n",
    "else:\n",
    "    # visualization of stochastic populations against time\n",
    "    plt.plot(t, x)\n",
    "    plt.plot(t, y)\n",
    "    plt.xlabel('Time')\n",
    "    plt.ylabel('Population Size')\n",
    "    plt.legend(('Rabbits', 'Foxes'))\n",
    "    plt.title('Stochastic Lotka-Volterra')\n",
    "    plt.show()\n",
    "\n",
    "    # stochastic phase portrait\n",
    "    plt.plot(x,y)\n",
    "    plt.xlabel('Fox Population')\n",
    "    plt.ylabel('Rabbit Population')\n",
    "    plt.title('Phase Portrait of Stochastic Lotka-Volterra')\n",
    "    plt.show()\n",
    "    \n",
    "    # noise term visualization\n",
    "    noise = []\n",
    "    n =[]\n",
    "    for sample in range(100):\n",
    "        noise.append(StochasticTerm(amp))\n",
    "        n.append(sample)\n",
    "\n",
    "    plt.plot(n, noise)\n",
    "    plt.xlabel('Arbitrary Noise Samples')\n",
    "    plt.ylabel('Noise')\n",
    "    plt.title('Perturbation to Birth Rate')\n",
    "    plt.show()"
   ]
  },
  {
   "cell_type": "markdown",
   "id": "c49e19dd-60f9-415f-baeb-3504fc7b8e92",
   "metadata": {},
   "source": [
    "What happens when you change each of the parameters? Plot the results to compare.\n",
    "\n",
    "\n",
    "You can switch to the Modelling Predator-Prey Systems in Python.ipynb notebook to explore this further\n",
    "\n",
    "\n",
    "> Can you find other examples of Lotka-Volterra code online?\n",
    "\n",
    "## Can you adapt the code to reflect other assumptions e.g. disease?"
   ]
  },
  {
   "cell_type": "code",
   "execution_count": null,
   "id": "f3d0c2cb-bdbd-4702-afce-1266733788b2",
   "metadata": {},
   "outputs": [],
   "source": []
  }
 ],
 "metadata": {
  "kernelspec": {
   "display_name": "Python 3 (ipykernel)",
   "language": "python",
   "name": "python3"
  },
  "language_info": {
   "codemirror_mode": {
    "name": "ipython",
    "version": 3
   },
   "file_extension": ".py",
   "mimetype": "text/x-python",
   "name": "python",
   "nbconvert_exporter": "python",
   "pygments_lexer": "ipython3",
   "version": "3.11.5"
  }
 },
 "nbformat": 4,
 "nbformat_minor": 5
}
